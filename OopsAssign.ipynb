{
 "cells": [
  {
   "cell_type": "code",
   "execution_count": 1,
   "id": "2b7f838c",
   "metadata": {},
   "outputs": [],
   "source": [
    "class alcazar(object):\n",
    "    def __init__(self,name,speed,avgkms):\n",
    "        self.name=name\n",
    "        self.speed=speed\n",
    "        self.avgkms=avgkms \n",
    "        print(\"name=\",name,\"speed=\",speed,\"distance=\",avgkms)\n",
    "        \n",
    "class child_car(alcazar):\n",
    "   \n",
    "    def seating_capacity(self,capacity):\n",
    "        self.capacity=capacity\n",
    "        return (\"car name is:\",self.name,\"Its capacity is:\",capacity)"
   ]
  },
  {
   "cell_type": "code",
   "execution_count": 2,
   "id": "de7dcf75",
   "metadata": {},
   "outputs": [
    {
     "name": "stdout",
     "output_type": "stream",
     "text": [
      "name= maruti speed= 90kmph distance= 70kmph\n"
     ]
    }
   ],
   "source": [
    "objd=child_car(\"maruti\",\"90kmph\",\"70kmph\")"
   ]
  },
  {
   "cell_type": "code",
   "execution_count": 3,
   "id": "e72846e3",
   "metadata": {},
   "outputs": [
    {
     "data": {
      "text/plain": [
       "('car name is:', 'maruti', 'Its capacity is:', '5')"
      ]
     },
     "execution_count": 3,
     "metadata": {},
     "output_type": "execute_result"
    }
   ],
   "source": [
    "objd.seating_capacity(\"5\")"
   ]
  },
  {
   "cell_type": "code",
   "execution_count": null,
   "id": "c22ddf31",
   "metadata": {},
   "outputs": [],
   "source": [
    "print(1)"
   ]
  }
 ],
 "metadata": {
  "kernelspec": {
   "display_name": "Python 3 (ipykernel)",
   "language": "python",
   "name": "python3"
  },
  "language_info": {
   "codemirror_mode": {
    "name": "ipython",
    "version": 3
   },
   "file_extension": ".py",
   "mimetype": "text/x-python",
   "name": "python",
   "nbconvert_exporter": "python",
   "pygments_lexer": "ipython3",
   "version": "3.9.7"
  }
 },
 "nbformat": 4,
 "nbformat_minor": 5
}
